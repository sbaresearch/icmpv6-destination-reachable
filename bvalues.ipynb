{
 "cells": [
  {
   "cell_type": "markdown",
   "id": "c812d549-c544-4002-a624-442549ee5cbf",
   "metadata": {},
   "source": [
    "# BVALUE STEPS\n",
    "\n",
    "Address seeded algorithm that explores ICMPv6 error message behavior of a remote network. \n",
    "\n",
    "BValue Steps traverse the target network space in steps of x bits (=8 by default). For each step 5 addresses with random IIDs are generated. This is an address seeded algorithm that requires a list of IPv6 addresses as input. In our work we relied on the IPv6 hitlist service (https://ipv6hitlist.github.io).\n",
    "\n",
    "We rely on routing collectors to assign routed network borders to each hitlist address. For each routed network, we choose one examplary hitlist address to represent the network to avoid bias by networks with many addresses in the hitlist.\n",
    "\n",
    "We introduced an additional step \"lastbit\" that equals B127 for the smallest possible subnet size. B127 is at the moment implemented as a separate measurement that only flips the last bit. "
   ]
  },
  {
   "cell_type": "code",
   "execution_count": 1,
   "id": "1feef6ec-dc34-4354-96d2-c3de56bc4b19",
   "metadata": {},
   "outputs": [],
   "source": [
    "# Enable auto reloading\n",
    "%load_ext autoreload\n",
    "%autoreload 2"
   ]
  },
  {
   "cell_type": "code",
   "execution_count": 2,
   "id": "cbc83d2e-2a28-43c3-9d94-ac35a82c9f6d",
   "metadata": {},
   "outputs": [],
   "source": [
    "# File handling\n",
    "DEFAULT_FOLDER=\"data/repro/data_bvalues/\"\n",
    "\n",
    "# Files provided from input.zip\n",
    "HITLIST_FILE=DEFAULT_FOLDER + \"responsive-addresses.txt\"\n",
    "HITLIST_FILE_FILTERED=DEFAULT_FOLDER + \"responsive-addresses_filtered.txt\"\n",
    "BGP_FILE=DEFAULT_FOLDER + \"bgp.csv\"\n",
    "LASTBIT_FILE= DEFAULT_FOLDER + \"lastbit.txt\"\n",
    "BVALUE_FILE=DEFAULT_FOLDER + \"bvalues.txt\"\n",
    "BVALUE_NETS_FILE=DEFAULT_FOLDER + \"bvalue_nets.txt\"\n",
    "\n",
    "\n",
    "# Reproduction Files\n",
    "HITLIST_FILE_FILTERED_REPRO=DEFAULT_FOLDER + \"responsive-addresses_filtered_REPRO.txt\"\n",
    "LASTBIT_FILE_REPRO= DEFAULT_FOLDER + \"lastbit_REPRO.txt\"\n",
    "BVALUE_FILE_REPRO=DEFAULT_FOLDER + \"bvalues_REPRO.txt\"\n",
    "BVALUE_NETS_FILE_REPRO=DEFAULT_FOLDER + \"bvalue_nets_REPRO.txt\""
   ]
  },
  {
   "cell_type": "markdown",
   "id": "81d9faaa-373c-4057-b05a-a5b6bbf3d48a",
   "metadata": {},
   "source": [
    "## Requirements\n",
    "The files that have been used to conduct BVALUE steps as in the paper are provided as a zip file\n",
    "`data/data_bvalues/input.zip` and can be extracted with the following code.\n",
    "\n",
    "The two required files are (the version used in the paper is included in the zip file):\n",
    "1) bgp.csv\n",
    "   - Source: RIPE RIS, see first tool in preparation to download BGP data from RIPE RIS\n",
    "2) responsive-addresses.txt\n",
    "    - Source: https://alcatraz.net.in.tum.de/ipv6-hitlist-service/open/responsive-addresses.txt.xz\n",
    "   \n",
    "The other files present in input.zip are a result of BVALUE tools and have been included for reproduction purposes."
   ]
  },
  {
   "cell_type": "code",
   "execution_count": 3,
   "id": "89358ec4-4c87-478a-b957-008a6f4945c3",
   "metadata": {},
   "outputs": [
    {
     "name": "stdout",
     "output_type": "stream",
     "text": [
      "Unzipping complete!\n"
     ]
    }
   ],
   "source": [
    "# Extract the files included in the zip file\n",
    "import zipfile\n",
    "import os\n",
    "\n",
    "# Define the path to the zip file\n",
    "zip_file_path = 'data/data_bvalues/input.zip'\n",
    "\n",
    "# Create a ZipFile object\n",
    "with zipfile.ZipFile(zip_file_path, 'r') as zip_ref:\n",
    "    # Extract all the contents of the zip file to the specified directory\n",
    "    zip_ref.extractall(DEFAULT_FOLDER)\n",
    "\n",
    "print(\"Unzipping complete!\")"
   ]
  },
  {
   "cell_type": "markdown",
   "id": "834884d3-0c25-4764-ba8e-2c637d12340f",
   "metadata": {},
   "source": [
    "## Preparation\n",
    "\n",
    "### (Skip this step for reproduction, TAKES TIME) Retrieve a current BGP dump:  tools/bgp/extract.sh\n",
    "Better execute this inside a screen, e.g. `screen -S bgpdownload` and then `yes | ./tools/bgp/eval.sh`\n",
    "Connects to RIPE RIS routing collectors and downloads the latest latest-bview.gz \n",
    "Requires:\n",
    "```\n",
    "moreutils > sponge;\n",
    "bgpdump (https://github.com/RIPE-NCC/bgpdump, prereq: libbz2-dev\n",
    "```"
   ]
  },
  {
   "cell_type": "code",
   "execution_count": null,
   "id": "74c76b0e-b87f-4abb-837e-e25438cc387b",
   "metadata": {},
   "outputs": [],
   "source": [
    "\n",
    "# (Skip this step for reproduction) retrieve a bgp dump (the bgpdump used in the paper is provided as bgp.csv)\n",
    "pkg1=\"bgpdump\"\n",
    "pkg2=\"moreutils\""
   ]
  },
  {
   "cell_type": "code",
   "execution_count": null,
   "id": "6bfa4517-5db4-469e-97e9-97eba3ed0937",
   "metadata": {},
   "outputs": [],
   "source": [
    "%%bash -s \"$pkg1\" \"$pkg2\"\n",
    "status=\"$(dpkg-query -W --showformat='${db:Status-Status}' $1 2>&1)\"\n",
    "if [ ! $? = 0 ] || [ ! \"$status\" == installed ]; then\n",
    "   echo \"$1 is not installed, use can use 'sudo apt install $1' to install $1\"\n",
    "fi\n",
    "\n",
    "status=\"$(dpkg-query -W --showformat='${db:Status-Status}' $2 2>&1)\"\n",
    "if [ ! $? = 0 ] || [ ! \"$status\" == installed ]; then\n",
    "   echo \"$2 is not installed, use can use 'sudo apt install' $2' to install $2\"\n",
    "fi\n",
    "\n",
    "yes | ./tools/bgp/eval.sh"
   ]
  },
  {
   "cell_type": "markdown",
   "id": "ad97ac0e-31a5-4955-a345-27387fd534e0",
   "metadata": {},
   "source": [
    "\n",
    "### Filter hitlist (tools/filter_addr_list_on_bgp.py)\n",
    "\n",
    "Takes one address per routed prefix and writes them to a file to avoid bias by prefixes with many addresses in the hitlist. <br>\n",
    "\n",
    "The following code snippet performs the filtering.\n",
    "\n",
    "Input: <br>\n",
    "```\n",
    "-i data/repro/data_bvalues/responsive-addresses.txt  - Format: # in first line, then one IPv6Address per line\n",
    "-r data/repro/data_bvalues/bgp.csv - Format: IPv6Network,AS Number (in the case of paths the AS numbers are separated by space and enclosed in brackets {AS1 AS2 ..})\n",
    "```\n",
    "Output: <br>\n",
    "```\n",
    "-o data/repro/data_bvalues/responsive-addresses_filtered_reproduce.txt - Format: One IPv6Address per line\n",
    "```"
   ]
  },
  {
   "cell_type": "code",
   "execution_count": 3,
   "id": "18e29e9c-285e-4d57-a140-3f66b195680c",
   "metadata": {},
   "outputs": [
    {
     "name": "stdout",
     "output_type": "stream",
     "text": [
      "Done - error:0\n"
     ]
    }
   ],
   "source": [
    "# Reduce hitlist to one address per entry in the BGP tables\n",
    "from bvalues.tools.filter_addr_list_on_bgp import *\n",
    "\n",
    "tree=SubnetTree.SubnetTree()\n",
    "tree=fill_tree(tree,BGP_FILE)\t\n",
    "filtered=filter(tree,HITLIST_FILE)\n",
    "output(filtered,HITLIST_FILE_FILTERED_REPRO)"
   ]
  },
  {
   "cell_type": "markdown",
   "id": "e3316c9a-f0c5-4359-8824-570273d15bf9",
   "metadata": {},
   "source": [
    "\n",
    "### Flip lastbit (tools/lastbit/gen_lastbit.py)\n",
    "\n",
    "Input: <br>\n",
    "```\n",
    "Filepath1 (Path to address file with IPv6 addresses; Format: One IPv6Address per line)\n",
    "Filepath2 (Path to output file; One IPv6Address per line, first the original address, then the flipped address)\n",
    "```\n",
    "Output: <br>\n",
    "```\n",
    "Flips last bit of addresses and write the original and the flipped address to the outputfile  \n",
    "```"
   ]
  },
  {
   "cell_type": "code",
   "execution_count": 6,
   "id": "d15d8109-2f2b-4df2-afaf-97a0ea1c9caf",
   "metadata": {},
   "outputs": [
    {
     "name": "stdout",
     "output_type": "stream",
     "text": [
      "Generating Addresses\n"
     ]
    },
    {
     "name": "stderr",
     "output_type": "stream",
     "text": [
      "100%|███████████████████████████████████████████████████████████████████████████████████████| 52114/52114 [00:00<00:00, 54047.31it/s]"
     ]
    },
    {
     "name": "stdout",
     "output_type": "stream",
     "text": [
      "Finished - 52114 addresses were generated!\n",
      "Flip errors avoided: 0\n"
     ]
    },
    {
     "name": "stderr",
     "output_type": "stream",
     "text": [
      "\n"
     ]
    }
   ],
   "source": [
    "# Takes the filtered hitlist and flips the last bit of the addr\n",
    "from bvalues.tools.lastbit.gen_lastbit import *\n",
    "\n",
    "addr_lookup=addr_dict(HITLIST_FILE_FILTERED)\n",
    "flip_and_write_to_output(HITLIST_FILE_FILTERED, LASTBIT_FILE_REPRO, addr_lookup)"
   ]
  },
  {
   "cell_type": "markdown",
   "id": "5c9ffc8f-69f0-4a28-bcd1-954d7554e638",
   "metadata": {},
   "source": [
    "\n",
    "### Generate BValue Steps (tools/bvalues/gen_bvalues.py)\n",
    "\n",
    "REPRODUCTION NOTES: The output will differ as the Interface Identifier is replaced with random bits, however the first x bits up to the current BValue are the same.\n",
    "\n",
    "Input:\n",
    "```\n",
    "-i INPUTFILE, --inputfile INPUTFILE \n",
    "                      \"filepath\" IPv6 Address File to derive BValue\n",
    "                        Addresses from (one address per line; r)\n",
    "-r ROUTEDFILE, --routedfile ROUTEDFILE \n",
    "                        \"filepath\" BGP data in csv format of net,<optional:asn> (r)\n",
    "-o OUTPUTADDR, --outputaddr OUTPUTADDR \n",
    "                        \"filepath\" File to store the output BValue Address (w) \n",
    "-p OUTPUTPREFIXES, --outputprefixes OUTPUTPREFIXES\n",
    "                        \"filepath\" \n",
    "-b BITS, --bits BITS  \"int\" Stepwidth in bits for BValue Steps\n",
    "-n NR_ADDR, --nr-addr NR_ADDR \n",
    "                        \"int\" Number of addresses to generate for each BValue Step\n",
    "-s STOP, --stop STOP  \"int\" Maximum BValue Step\n",
    "```\n",
    "\n",
    "Output:\n",
    "```\n",
    "-o OUTPUTADDR -> File with Bvalue Addresses\n",
    "-p OUTPUTPREFIXES -> File with prefixes for which Bvalues were generated\n",
    "```"
   ]
  },
  {
   "cell_type": "code",
   "execution_count": 5,
   "id": "7308063e-f6ce-422c-be4a-03ad297db49d",
   "metadata": {
    "scrolled": true
   },
   "outputs": [
    {
     "name": "stderr",
     "output_type": "stream",
     "text": [
      "100%|████████████████████████████████████████████████████████████████████████████████████████| 52114/52114 [00:44<00:00, 1162.69it/s]"
     ]
    },
    {
     "name": "stdout",
     "output_type": "stream",
     "text": [
      "Total time needed: 44.89490866661072\n",
      "Skipped 214 lines (Invalid Subnet Space)\n",
      "Generated a total of: 2744710 addresses\n"
     ]
    },
    {
     "name": "stderr",
     "output_type": "stream",
     "text": [
      "\n"
     ]
    }
   ],
   "source": [
    "# Generate BVALUE Addresses\n",
    "from bvalues.tools.bvalues.gen_bvalues import *\n",
    "iterate_and_generate_bvalues(HITLIST_FILE_FILTERED, BGP_FILE, BVALUE_FILE_REPRO, BVALUE_NETS_FILE_REPRO, 8, 5, 120)"
   ]
  },
  {
   "cell_type": "markdown",
   "id": "e50d250e-3666-481e-9792-541f42af1a0b",
   "metadata": {},
   "source": [
    "## Measurements\n",
    "\n",
    "> [!CAUTION]\n",
    "> THIS SECTION INCLUDES ACTIVE INTERNET MEASUREMENTS (Follow good internetcitizenship, use dedicated scanning hardware, low scanrates, set a PTR explaining the reason of your scans)\n",
    "\n",
    "> ![IMPORTANT]\n",
    "> SKIP THIS STEP FOR REPRODUCTION\n",
    "\n",
    "To reproduce, we provide our result files  \n",
    "Measurements of the bvalues.csv and lastbit.csv are conducted with ZMAP. <br>\n",
    "For these measurements the ZMap IPv6 Adoption from TUM can be used (https://github.com/tumi8/zmap), however we used our adoption of ZMap that is optimized for precise RTT collection. For this measurement it should be enough to change \"orig-dest-ip\" to \"outersaddr\" in tools/scan_zmap.sh` when using the TUM version.\n",
    "\n",
    "Bash scripts that schedule the scans are provided, they source\n",
    "`scan.conf` to retrieve the following variables: \n",
    "```bash\n",
    "ip=<public ipv6 source address for scanning> # `ip a`; Additionally before scanning for good Internet citizenship, set a reverse dns entry on that IP explaining the reason why you perform this scan\n",
    "mac=<mac address of the interface> # again `ip a`, it includes the mac address of the interface \n",
    "gw=<mac address of the gateway> # use `ip - 6 neigh`\n",
    "int=<name of source interface> #use the interface name\n",
    "speed=<1000, 10000, ...> # the scanrate\n",
    "proto=<all, icmp, tcp, tcp_ack or udp> #the protocol to perform scans with\n",
    "outdir= <output directory> # folder to store scan results\n",
    "zmap=<path to zmap binary> \n",
    "```\n",
    "\n",
    "Output (CSV with the name scanned_targets):\n",
    "\n",
    "```bash\n",
    "orig-dest-ip,classification,saddr,ttl,original_ttl,sent_timestamp_ts,sent_timestamp_us,timestamp_str,rtt\n",
    "<ip>,response_type <unreach_...,timxceeded,echoreply>,<ip>,55 <0-255>,241 <0-255>,1678798693 <timestamp>,912363 <timestamp>,1678798693.946204 <timetamp>,33 <rtt in ms>\n",
    "```\n"
   ]
  },
  {
   "cell_type": "code",
   "execution_count": null,
   "id": "fc4b4248-b507-44f4-8246-981d5a0e89b0",
   "metadata": {},
   "outputs": [],
   "source": [
    "# Input File Selection\n",
    "# Set REPRODUCTION To True if you want to use your reproduced files as input\n",
    "REPRODUCTION=False\n",
    "if REPRODUCTION:\n",
    "    INPUT_LASTBIT=LASTBIT_FILE_REPRO\n",
    "    INPUT_BVALUES=BVALUES_FILE_REPRO\n",
    "else:\n",
    "    INPUT_LASTBIT=LASTBIT_FILE\n",
    "    INPUT_BVALUES=BVALUES_FILE"
   ]
  },
  {
   "cell_type": "code",
   "execution_count": null,
   "id": "ce49f5bc-70a6-417e-a825-201435d85a76",
   "metadata": {},
   "outputs": [],
   "source": [
    "# Requires scan.conf variables and scanning environment to be prepared, perform LastBit measurement, prefered option is to execute within bash terminal (screen session)\n",
    "%%bash -s \"$INPUT_LASTBIT \n",
    "./scan_zmap.sh \"$1\" \"lastbit\""
   ]
  },
  {
   "cell_type": "code",
   "execution_count": null,
   "id": "0248150b-e93a-4b70-a7c4-fd8335001b97",
   "metadata": {},
   "outputs": [],
   "source": [
    "# Requires scan.conf variables and scanning environment to be prepared, perform BValue measurement, prefered option is to execute within bash terminal (screen session)\n",
    "%%bash -s \"$INPUT_BVALUES\"\n",
    "./scan_zmap.sh \"$1\" \"bvalues\""
   ]
  },
  {
   "cell_type": "markdown",
   "id": "9dab5d61-54c4-482d-bbfe-96abf47e21ae",
   "metadata": {},
   "source": [
    "## Evaluation"
   ]
  },
  {
   "cell_type": "markdown",
   "id": "c7818f73-80e0-4ba4-8d34-fd5a6ca895a4",
   "metadata": {},
   "source": [
    "We scheduled daily scans for icmpv6, tcp and udp for 5 days in chron on 2 vantage points.  <br>\n",
    "The output of those files is included in: <br>\n",
    "`data/data_bvalues/lastbit_vantage1.zip`\n",
    "`data/data_bvalues/lastbit_vantage2.zip`\n",
    "`data/data_bvalues/bvalue_vantage1.zip`\n",
    "`data/data_bvalues/bvalue_vantage2.zip`\n",
    "\n",
    "The evaluation section analyzes the scan output"
   ]
  },
  {
   "cell_type": "code",
   "execution_count": 12,
   "id": "431f5a70-513c-468c-8ab0-6ea8127fa8a6",
   "metadata": {},
   "outputs": [
    {
     "name": "stdout",
     "output_type": "stream",
     "text": [
      "Unzipping data/data_bvalues/lastbit_vantage1.zip to data/repro/data_bvalues/\n",
      "Unzipping data/data_bvalues/lastbit_vantage2.zip to data/repro/data_bvalues/\n",
      "Unzipping data/data_bvalues/bvalue_vantage1.zip to data/repro/data_bvalues/\n",
      "Unzipping data/data_bvalues/bvalue_vantage2.zip to data/repro/data_bvalues/\n",
      "Unzipping complete!\n"
     ]
    }
   ],
   "source": [
    "# Extract artifacts\n",
    "REPRODUCTION=True\n",
    "if REPRODUCTION:\n",
    "    # Extract the files included in the measurement zip files\n",
    "    import zipfile\n",
    "    import os\n",
    "    from pathlib import Path\n",
    "    \n",
    "    ZIP_PATH='data/data_bvalues/'\n",
    "    # Define the path to the zip file\n",
    "    zip_file_paths = [ZIP_PATH+'lastbit_vantage1.zip', ZIP_PATH+'lastbit_vantage2.zip',ZIP_PATH+'bvalue_vantage1.zip',ZIP_PATH+'bvalue_vantage2.zip']\n",
    "    \n",
    "    # Create a ZipFile object\n",
    "    for zip_file in zip_file_paths:\n",
    "        try:\n",
    "            \n",
    "            with zipfile.ZipFile(zip_file, 'r') as zip_ref:\n",
    "                # Extract all the contents of the zip file to the specified directory\n",
    "                OUTPUT_FOLDER = DEFAULT_FOLDER              \n",
    "                print(\"Unzipping {} to {}\".format(zip_file,OUTPUT_FOLDER))\n",
    "                zip_ref.extractall(OUTPUT_FOLDER)\n",
    "        except Exception as e:\n",
    "            print(\"Could not unzip {} with error: {}\".format(zip_file,e))\n",
    "    print(\"Unzipping complete!\")"
   ]
  },
  {
   "cell_type": "markdown",
   "id": "317366e2-dd8b-4ce6-8315-64e7e73f60ff",
   "metadata": {},
   "source": [
    "### Create BValue Dicts for further analyzes\n",
    "\n",
    "```\n",
    "python3 bvalue_dict.py -s <path to scanned-bvalue-targets> -n <path to input bvalue-nets> -t <path to target bvalue addresses> -i <path to (optionally filtered) hitlist addresses> -o <path to output .json> -f <path to lastbit scan results> -a <path to routed networks (bgp.csv)>\n",
    "```"
   ]
  },
  {
   "cell_type": "code",
   "execution_count": 13,
   "id": "23f16e1c-7e89-40d6-8c44-b8375417cd09",
   "metadata": {},
   "outputs": [
    {
     "name": "stdout",
     "output_type": "stream",
     "text": [
      "Total Hitlist Addresses:52114\n",
      "Responsive Hitlist Addresses (ICMPv6/TCP443/UDP53):48135\n",
      "Starting To Create BValue Dict\n"
     ]
    },
    {
     "name": "stderr",
     "output_type": "stream",
     "text": [
      "52114it [00:29, 1771.43it/s]\n"
     ]
    },
    {
     "name": "stdout",
     "output_type": "stream",
     "text": [
      "Skipped small prefixes >=120:213\n",
      "Finished: BValue Dict created successfully!\n"
     ]
    }
   ],
   "source": [
    "# Create a BValue File for further analysis\n",
    "from bvalues.tools.bvalues.bvalue_dict import *\n",
    "BVALUE_FOLDER=DEFAULT_FOLDER+\"bvalue_\"\n",
    "LASTBIT_FOLDER=DEFAULT_FOLDER+\"lastbit_\"\n",
    "VANTAGE=\"vantage1\"\n",
    "PROTO=\"icmpv6\"\n",
    "DATE=\"2023_03_14\"\n",
    "SCAN_FILE=BVALUE_FOLDER+VANTAGE+\"/\"+DATE+\"/\"+PROTO+\"/\"+\"scanned_targets.txt\"\n",
    "#TARGET_FILE=BVALUE_FOLDER+VANTAGE+\"/\"+DATE+\"/\"+PROTO+\"/\"+\"targets.txt\"\n",
    "LASTBIT_FILE=LASTBIT_FOLDER+VANTAGE+\"/\"+DATE+\"/\"+PROTO+\"/\"+\"scanned_targets.txt\"\n",
    "BVALUE_DICT_OUTPUT_FILE=BVALUE_FOLDER+VANTAGE+\"/\"+DATE+\"/\"+PROTO+\"/\"+\"bvalue_dict.json\"\n",
    "\n",
    "# Aggregate Results from the lastbit measurement\n",
    "responsiveness_dict=extract_responsiveness_dict(HITLIST_FILE_FILTERED,LASTBIT_FILE)\n",
    "flip_dict=read_flipped_addr_results(LASTBIT_FILE,PROTO)\n",
    "\n",
    "# Generate Metadata AS File\n",
    "as_dict=create_as_dict(BGP_FILE)\n",
    "\n",
    "# Generate a LPM tree for the input networks\n",
    "tree = SubnetTree.SubnetTree()\n",
    "tree = fill_tree(tree,BVALUE_NETS_FILE)\n",
    "\n",
    "# Generate the BValue Dict\n",
    "print(\"Starting To Create BValue Dict\")\n",
    "bvalue_dict=create_bvalue_dict(SCAN_FILE,  BVALUE_FILE, HITLIST_FILE_FILTERED,flip_dict, responsiveness_dict, tree ,as_dict, 8,128,PROTO,5)\n",
    "\n",
    "# Dump the dict to the output file\n",
    "with open(BVALUE_DICT_OUTPUT_FILE,'w') as f_out:\n",
    "    json.dump(bvalue_dict,f_out)\n",
    "    print(\"Finished: BValue Dict created successfully!\")"
   ]
  },
  {
   "cell_type": "markdown",
   "id": "07f23278-cc8e-4144-be9f-bca0aa11b49d",
   "metadata": {},
   "source": [
    "### BValue Dict Evaluation\n",
    "\n",
    "The BValue Dict can be generated for all 5 days and protocols\n",
    "-> from the dict all further evaluation is done\n",
    "\n",
    "-> bvalue_change_json.py"
   ]
  },
  {
   "cell_type": "code",
   "execution_count": 14,
   "id": "013c56f4-8a39-477c-94f1-ca1571d482ca",
   "metadata": {},
   "outputs": [],
   "source": [
    "from bvalues.tools.bvalues.bvalue_change_json import *\n",
    "\n",
    "BVALUE_CHANGE_FILE=BVALUE_FOLDER+VANTAGE+\"/\"+DATE+\"/\"+PROTO+\"/\"+\"bvalue_changes.json\"\n",
    "BVALUE_CHANGE_COUNT_FILE=BVALUE_FOLDER+VANTAGE+\"/\"+DATE+\"/\"+PROTO+\"/\"+\"bvalue_changes_counts.json\"\n",
    "\n",
    "with open(BVALUE_DICT_OUTPUT_FILE,'r') as f_json:\n",
    "\tbvalue_dict=json.load(f_json)\n",
    "\n",
    "results, counts, global_count = detect_changes(bvalue_dict)\n",
    "\n",
    "create_eval_counts(results, counts, global_count)\n",
    "\t\n",
    "with open(BVALUE_CHANGE_FILE,\"w\") as f:\n",
    "\tjson.dump(results,f,indent=4)\n",
    "\t\n",
    "with open(BVALUE_CHANGE_COUNT_FILE,\"w\") as f:\n",
    "    json.dump(counts,f,indent=4)"
   ]
  },
  {
   "cell_type": "markdown",
   "id": "23c6b8b0-cb11-48c6-9bf5-53954ccbc9d0",
   "metadata": {},
   "source": [
    "### Network Border and RTT CDFs\n"
   ]
  },
  {
   "cell_type": "code",
   "execution_count": 17,
   "id": "bc8466e3-d7f5-4cb9-a380-f0ad534839d6",
   "metadata": {
    "scrolled": true
   },
   "outputs": [
    {
     "name": "stderr",
     "output_type": "stream",
     "text": [
      "INFO:matplotlib.font_manager:generated new fontManager\n",
      "INFO:fontTools.subset:maxp pruned\n",
      "INFO:fontTools.subset:cmap pruned\n",
      "INFO:fontTools.subset:post pruned\n",
      "INFO:fontTools.subset:FFTM dropped\n",
      "INFO:fontTools.subset:GPOS pruned\n",
      "INFO:fontTools.subset:GSUB pruned\n",
      "INFO:fontTools.subset:glyf pruned\n",
      "INFO:fontTools.subset:Added gid0 to subset\n",
      "INFO:fontTools.subset:Added first four glyphs to subset\n",
      "INFO:fontTools.subset:Closing glyph list over 'GSUB': 39 glyphs before\n",
      "INFO:fontTools.subset:Glyph names: ['.notdef', '.null', 'B', 'C', 'D', 'F', 'G', 'P', 'S', 'T', 'V', 'a', 'c', 'd', 'e', 'eight', 'five', 'four', 'g', 'h', 'i', 'l', 'n', 'nine', 'nonmarkingreturn', 'o', 'one', 'period', 'r', 's', 'seven', 'six', 'space', 't', 'three', 'two', 'u', 'z', 'zero']\n",
      "INFO:fontTools.subset:Glyph IDs:   [0, 1, 2, 3, 17, 19, 20, 21, 22, 23, 24, 25, 26, 27, 28, 37, 38, 39, 41, 42, 51, 54, 55, 57, 68, 70, 71, 72, 74, 75, 76, 79, 81, 82, 85, 86, 87, 88, 93]\n",
      "INFO:fontTools.subset:Closed glyph list over 'GSUB': 39 glyphs after\n",
      "INFO:fontTools.subset:Glyph names: ['.notdef', '.null', 'B', 'C', 'D', 'F', 'G', 'P', 'S', 'T', 'V', 'a', 'c', 'd', 'e', 'eight', 'five', 'four', 'g', 'h', 'i', 'l', 'n', 'nine', 'nonmarkingreturn', 'o', 'one', 'period', 'r', 's', 'seven', 'six', 'space', 't', 'three', 'two', 'u', 'z', 'zero']\n",
      "INFO:fontTools.subset:Glyph IDs:   [0, 1, 2, 3, 17, 19, 20, 21, 22, 23, 24, 25, 26, 27, 28, 37, 38, 39, 41, 42, 51, 54, 55, 57, 68, 70, 71, 72, 74, 75, 76, 79, 81, 82, 85, 86, 87, 88, 93]\n",
      "INFO:fontTools.subset:Closing glyph list over 'glyf': 39 glyphs before\n",
      "INFO:fontTools.subset:Glyph names: ['.notdef', '.null', 'B', 'C', 'D', 'F', 'G', 'P', 'S', 'T', 'V', 'a', 'c', 'd', 'e', 'eight', 'five', 'four', 'g', 'h', 'i', 'l', 'n', 'nine', 'nonmarkingreturn', 'o', 'one', 'period', 'r', 's', 'seven', 'six', 'space', 't', 'three', 'two', 'u', 'z', 'zero']\n",
      "INFO:fontTools.subset:Glyph IDs:   [0, 1, 2, 3, 17, 19, 20, 21, 22, 23, 24, 25, 26, 27, 28, 37, 38, 39, 41, 42, 51, 54, 55, 57, 68, 70, 71, 72, 74, 75, 76, 79, 81, 82, 85, 86, 87, 88, 93]\n",
      "INFO:fontTools.subset:Closed glyph list over 'glyf': 39 glyphs after\n",
      "INFO:fontTools.subset:Glyph names: ['.notdef', '.null', 'B', 'C', 'D', 'F', 'G', 'P', 'S', 'T', 'V', 'a', 'c', 'd', 'e', 'eight', 'five', 'four', 'g', 'h', 'i', 'l', 'n', 'nine', 'nonmarkingreturn', 'o', 'one', 'period', 'r', 's', 'seven', 'six', 'space', 't', 'three', 'two', 'u', 'z', 'zero']\n",
      "INFO:fontTools.subset:Glyph IDs:   [0, 1, 2, 3, 17, 19, 20, 21, 22, 23, 24, 25, 26, 27, 28, 37, 38, 39, 41, 42, 51, 54, 55, 57, 68, 70, 71, 72, 74, 75, 76, 79, 81, 82, 85, 86, 87, 88, 93]\n",
      "INFO:fontTools.subset:Retaining 39 glyphs\n",
      "INFO:fontTools.subset:head subsetting not needed\n",
      "INFO:fontTools.subset:hhea subsetting not needed\n",
      "INFO:fontTools.subset:maxp subsetting not needed\n",
      "INFO:fontTools.subset:OS/2 subsetting not needed\n",
      "INFO:fontTools.subset:hmtx subsetted\n",
      "INFO:fontTools.subset:cmap subsetted\n",
      "INFO:fontTools.subset:fpgm subsetting not needed\n",
      "INFO:fontTools.subset:prep subsetting not needed\n",
      "INFO:fontTools.subset:cvt  subsetting not needed\n",
      "INFO:fontTools.subset:loca subsetting not needed\n",
      "INFO:fontTools.subset:post subsetted\n",
      "INFO:fontTools.subset:gasp subsetting not needed\n",
      "INFO:fontTools.subset:GDEF subsetted\n",
      "INFO:fontTools.subset:GPOS subsetted\n",
      "INFO:fontTools.subset:GSUB subsetted\n",
      "INFO:fontTools.subset:name subsetting not needed\n",
      "INFO:fontTools.subset:glyf subsetted\n",
      "INFO:fontTools.subset:head pruned\n",
      "INFO:fontTools.subset:OS/2 Unicode ranges pruned: [0]\n",
      "INFO:fontTools.subset:OS/2 CodePage ranges pruned: [0]\n",
      "INFO:fontTools.subset:glyf pruned\n",
      "INFO:fontTools.subset:GDEF pruned\n",
      "INFO:fontTools.subset:GPOS pruned\n",
      "INFO:fontTools.subset:GSUB pruned\n",
      "INFO:fontTools.subset:name pruned\n"
     ]
    },
    {
     "data": {
      "image/png": "[encoded data removed]",
      "text/plain": [
       "<Figure size 550x250 with 1 Axes>"
      ]
     },
     "metadata": {},
     "output_type": "display_data"
    },
    {
     "data": {
      "text/plain": [
       "<Figure size 640x480 with 0 Axes>"
      ]
     },
     "metadata": {},
     "output_type": "display_data"
    }
   ],
   "source": [
    "#### CDF Borders\n",
    "from bvalues.tools.bvalues.vis.cdf_borders import *\n",
    "\n",
    "with open(BVALUE_CHANGE_FILE, 'r') as f:\n",
    "    data = json.load(f)\n",
    "    \n",
    "# Dictionary to hold all sizes for plotting CDFs\n",
    "cdf_data = {'First Change': [], 'Second Change': [], 'Third Change': [],'BGP Border':[]}\n",
    "    \n",
    "# Extract and organize the data from JSON\n",
    "for network, targets in data.items():\n",
    "    for target, changes in targets.items():\n",
    "        sizes = extract_sizes(changes, network)\n",
    "      \n",
    "        if len(sizes) > 1:\n",
    "            cdf_data['BGP Border'].append(sizes[0])\n",
    "        if len(sizes) > 2:\n",
    "            cdf_data['First Change'].append(sizes[1])\n",
    "        if len(sizes) > 3:\n",
    "            cdf_data['Second Change'].append(sizes[2])\n",
    "        if len(sizes) > 3:\n",
    "            cdf_data['Third Change'].append(sizes[3])\n",
    "    \n",
    "# Plot the CDFs\n",
    "plot_cdfs(cdf_data)\n"
   ]
  },
  {
   "cell_type": "markdown",
   "id": "6b87961d-5f1a-4a13-8107-90ebe67c6ec3",
   "metadata": {},
   "source": [
    "#### CDF RTT Active\n"
   ]
  },
  {
   "cell_type": "code",
   "execution_count": 18,
   "id": "aeb0260b-9f7e-4c27-ba13-726ceb85d1d5",
   "metadata": {},
   "outputs": [
    {
     "name": "stderr",
     "output_type": "stream",
     "text": [
      "INFO:fontTools.subset:maxp pruned\n",
      "INFO:fontTools.subset:cmap pruned\n",
      "INFO:fontTools.subset:post pruned\n",
      "INFO:fontTools.subset:FFTM dropped\n",
      "INFO:fontTools.subset:GPOS pruned\n",
      "INFO:fontTools.subset:GSUB pruned\n",
      "INFO:fontTools.subset:glyf pruned\n",
      "INFO:fontTools.subset:Added gid0 to subset\n",
      "INFO:fontTools.subset:Added first four glyphs to subset\n",
      "INFO:fontTools.subset:Closing glyph list over 'GSUB': 24 glyphs before\n",
      "INFO:fontTools.subset:Glyph names: ['.notdef', '.null', 'A', 'C', 'D', 'F', 'N', 'P', 'R', 'T', 'U', 'X', 'eight', 'four', 'nonmarkingreturn', 'one', 'parenleft', 'parenright', 'period', 's', 'six', 'space', 'two', 'zero']\n",
      "INFO:fontTools.subset:Glyph IDs:   [0, 1, 2, 3, 11, 12, 17, 19, 20, 21, 23, 25, 27, 36, 38, 39, 41, 49, 51, 53, 55, 56, 59, 86]\n",
      "INFO:fontTools.subset:Closed glyph list over 'GSUB': 24 glyphs after\n",
      "INFO:fontTools.subset:Glyph names: ['.notdef', '.null', 'A', 'C', 'D', 'F', 'N', 'P', 'R', 'T', 'U', 'X', 'eight', 'four', 'nonmarkingreturn', 'one', 'parenleft', 'parenright', 'period', 's', 'six', 'space', 'two', 'zero']\n",
      "INFO:fontTools.subset:Glyph IDs:   [0, 1, 2, 3, 11, 12, 17, 19, 20, 21, 23, 25, 27, 36, 38, 39, 41, 49, 51, 53, 55, 56, 59, 86]\n",
      "INFO:fontTools.subset:Closing glyph list over 'glyf': 24 glyphs before\n",
      "INFO:fontTools.subset:Glyph names: ['.notdef', '.null', 'A', 'C', 'D', 'F', 'N', 'P', 'R', 'T', 'U', 'X', 'eight', 'four', 'nonmarkingreturn', 'one', 'parenleft', 'parenright', 'period', 's', 'six', 'space', 'two', 'zero']\n",
      "INFO:fontTools.subset:Glyph IDs:   [0, 1, 2, 3, 11, 12, 17, 19, 20, 21, 23, 25, 27, 36, 38, 39, 41, 49, 51, 53, 55, 56, 59, 86]\n",
      "INFO:fontTools.subset:Closed glyph list over 'glyf': 24 glyphs after\n",
      "INFO:fontTools.subset:Glyph names: ['.notdef', '.null', 'A', 'C', 'D', 'F', 'N', 'P', 'R', 'T', 'U', 'X', 'eight', 'four', 'nonmarkingreturn', 'one', 'parenleft', 'parenright', 'period', 's', 'six', 'space', 'two', 'zero']\n",
      "INFO:fontTools.subset:Glyph IDs:   [0, 1, 2, 3, 11, 12, 17, 19, 20, 21, 23, 25, 27, 36, 38, 39, 41, 49, 51, 53, 55, 56, 59, 86]\n",
      "INFO:fontTools.subset:Retaining 24 glyphs\n",
      "INFO:fontTools.subset:head subsetting not needed\n",
      "INFO:fontTools.subset:hhea subsetting not needed\n",
      "INFO:fontTools.subset:maxp subsetting not needed\n",
      "INFO:fontTools.subset:OS/2 subsetting not needed\n",
      "INFO:fontTools.subset:hmtx subsetted\n",
      "INFO:fontTools.subset:cmap subsetted\n",
      "INFO:fontTools.subset:fpgm subsetting not needed\n",
      "INFO:fontTools.subset:prep subsetting not needed\n",
      "INFO:fontTools.subset:cvt  subsetting not needed\n",
      "INFO:fontTools.subset:loca subsetting not needed\n",
      "INFO:fontTools.subset:post subsetted\n",
      "INFO:fontTools.subset:gasp subsetting not needed\n",
      "INFO:fontTools.subset:GDEF subsetted\n",
      "INFO:fontTools.subset:GPOS subsetted\n",
      "INFO:fontTools.subset:GSUB subsetted\n",
      "INFO:fontTools.subset:name subsetting not needed\n",
      "INFO:fontTools.subset:glyf subsetted\n",
      "INFO:fontTools.subset:head pruned\n",
      "INFO:fontTools.subset:OS/2 Unicode ranges pruned: [0]\n",
      "INFO:fontTools.subset:OS/2 CodePage ranges pruned: [0]\n",
      "INFO:fontTools.subset:glyf pruned\n",
      "INFO:fontTools.subset:GDEF pruned\n",
      "INFO:fontTools.subset:GPOS pruned\n",
      "INFO:fontTools.subset:GSUB pruned\n",
      "INFO:fontTools.subset:name pruned\n"
     ]
    },
    {
     "name": "stdout",
     "output_type": "stream",
     "text": [
      "{2: 3839, 3: 11822, 18: 1597}\n",
      "2\n",
      "22.244756055162824\n",
      "3\n",
      "68.50156449182988\n",
      "18\n",
      "9.253679453007301\n"
     ]
    },
    {
     "data": {
      "image/png": "[encoded data removed]",
      "text/plain": [
       "<Figure size 250x290 with 1 Axes>"
      ]
     },
     "metadata": {},
     "output_type": "display_data"
    },
    {
     "data": {
      "text/plain": [
       "<Figure size 640x480 with 0 Axes>"
      ]
     },
     "metadata": {},
     "output_type": "display_data"
    }
   ],
   "source": [
    "from bvalues.tools.bvalues.vis.cdf_rtt import *\n",
    "\n",
    "with open(BVALUE_CHANGE_FILE, 'r') as file:\n",
    "    data = json.load(file)\n",
    "\n",
    "active_status=True\n",
    "df = process_data(data, active=active_status)\n",
    "plot(df,active_status)"
   ]
  },
  {
   "cell_type": "code",
   "execution_count": 19,
   "id": "67f7df06-5bbe-498d-a96f-8df0128c1a3f",
   "metadata": {
    "scrolled": true
   },
   "outputs": [
    {
     "name": "stderr",
     "output_type": "stream",
     "text": [
      "INFO:fontTools.subset:maxp pruned\n",
      "INFO:fontTools.subset:cmap pruned\n",
      "INFO:fontTools.subset:post pruned\n",
      "INFO:fontTools.subset:FFTM dropped\n",
      "INFO:fontTools.subset:GPOS pruned\n",
      "INFO:fontTools.subset:GSUB pruned\n",
      "INFO:fontTools.subset:glyf pruned\n",
      "INFO:fontTools.subset:Added gid0 to subset\n",
      "INFO:fontTools.subset:Added first four glyphs to subset\n",
      "INFO:fontTools.subset:Closing glyph list over 'GSUB': 24 glyphs before\n",
      "INFO:fontTools.subset:Glyph names: ['.notdef', '.null', 'A', 'C', 'D', 'F', 'N', 'P', 'R', 'T', 'U', 'X', 'eight', 'four', 'nonmarkingreturn', 'one', 'parenleft', 'parenright', 'period', 's', 'six', 'space', 'two', 'zero']\n",
      "INFO:fontTools.subset:Glyph IDs:   [0, 1, 2, 3, 11, 12, 17, 19, 20, 21, 23, 25, 27, 36, 38, 39, 41, 49, 51, 53, 55, 56, 59, 86]\n",
      "INFO:fontTools.subset:Closed glyph list over 'GSUB': 24 glyphs after\n",
      "INFO:fontTools.subset:Glyph names: ['.notdef', '.null', 'A', 'C', 'D', 'F', 'N', 'P', 'R', 'T', 'U', 'X', 'eight', 'four', 'nonmarkingreturn', 'one', 'parenleft', 'parenright', 'period', 's', 'six', 'space', 'two', 'zero']\n",
      "INFO:fontTools.subset:Glyph IDs:   [0, 1, 2, 3, 11, 12, 17, 19, 20, 21, 23, 25, 27, 36, 38, 39, 41, 49, 51, 53, 55, 56, 59, 86]\n",
      "INFO:fontTools.subset:Closing glyph list over 'glyf': 24 glyphs before\n",
      "INFO:fontTools.subset:Glyph names: ['.notdef', '.null', 'A', 'C', 'D', 'F', 'N', 'P', 'R', 'T', 'U', 'X', 'eight', 'four', 'nonmarkingreturn', 'one', 'parenleft', 'parenright', 'period', 's', 'six', 'space', 'two', 'zero']\n",
      "INFO:fontTools.subset:Glyph IDs:   [0, 1, 2, 3, 11, 12, 17, 19, 20, 21, 23, 25, 27, 36, 38, 39, 41, 49, 51, 53, 55, 56, 59, 86]\n",
      "INFO:fontTools.subset:Closed glyph list over 'glyf': 24 glyphs after\n",
      "INFO:fontTools.subset:Glyph names: ['.notdef', '.null', 'A', 'C', 'D', 'F', 'N', 'P', 'R', 'T', 'U', 'X', 'eight', 'four', 'nonmarkingreturn', 'one', 'parenleft', 'parenright', 'period', 's', 'six', 'space', 'two', 'zero']\n",
      "INFO:fontTools.subset:Glyph IDs:   [0, 1, 2, 3, 11, 12, 17, 19, 20, 21, 23, 25, 27, 36, 38, 39, 41, 49, 51, 53, 55, 56, 59, 86]\n",
      "INFO:fontTools.subset:Retaining 24 glyphs\n",
      "INFO:fontTools.subset:head subsetting not needed\n",
      "INFO:fontTools.subset:hhea subsetting not needed\n",
      "INFO:fontTools.subset:maxp subsetting not needed\n",
      "INFO:fontTools.subset:OS/2 subsetting not needed\n",
      "INFO:fontTools.subset:hmtx subsetted\n",
      "INFO:fontTools.subset:cmap subsetted\n",
      "INFO:fontTools.subset:fpgm subsetting not needed\n",
      "INFO:fontTools.subset:prep subsetting not needed\n",
      "INFO:fontTools.subset:cvt  subsetting not needed\n",
      "INFO:fontTools.subset:loca subsetting not needed\n",
      "INFO:fontTools.subset:post subsetted\n",
      "INFO:fontTools.subset:gasp subsetting not needed\n",
      "INFO:fontTools.subset:GDEF subsetted\n",
      "INFO:fontTools.subset:GPOS subsetted\n",
      "INFO:fontTools.subset:GSUB subsetted\n",
      "INFO:fontTools.subset:name subsetting not needed\n",
      "INFO:fontTools.subset:glyf subsetted\n",
      "INFO:fontTools.subset:head pruned\n",
      "INFO:fontTools.subset:OS/2 Unicode ranges pruned: [0]\n",
      "INFO:fontTools.subset:OS/2 CodePage ranges pruned: [0]\n",
      "INFO:fontTools.subset:glyf pruned\n",
      "INFO:fontTools.subset:GDEF pruned\n",
      "INFO:fontTools.subset:GPOS pruned\n",
      "INFO:fontTools.subset:GSUB pruned\n",
      "INFO:fontTools.subset:name pruned\n"
     ]
    },
    {
     "data": {
      "image/png": "[encoded data removed]",
      "text/plain": [
       "<Figure size 250x290 with 1 Axes>"
      ]
     },
     "metadata": {},
     "output_type": "display_data"
    },
    {
     "data": {
      "text/plain": [
       "<Figure size 640x480 with 0 Axes>"
      ]
     },
     "metadata": {},
     "output_type": "display_data"
    }
   ],
   "source": [
    "active_status=False\n",
    "df = process_data(data, active=active_status)\n",
    "plot(df,active_status)"
   ]
  },
  {
   "cell_type": "markdown",
   "id": "60bf994d-aae0-4ff4-bfd7-11d7f07ca87d",
   "metadata": {},
   "source": [
    "### Multi Day and Vantage Point Evaluation"
   ]
  },
  {
   "cell_type": "code",
   "execution_count": 23,
   "id": "6a317e70-0688-4320-982f-163f9f0aa3c6",
   "metadata": {
    "scrolled": true
   },
   "outputs": [
    {
     "name": "stdout",
     "output_type": "stream",
     "text": [
      "Processing icmpv6:2023_03_14 for vantage1\n",
      "Total Hitlist Addresses:52114\n",
      "Responsive Hitlist Addresses (ICMPv6/TCP443/UDP53):48135\n",
      "Creating BValue Dict for vantage1 on 2023_03_14 for icmpv6\n"
     ]
    },
    {
     "name": "stderr",
     "output_type": "stream",
     "text": [
      "52114it [00:29, 1773.55it/s]\n"
     ]
    },
    {
     "name": "stdout",
     "output_type": "stream",
     "text": [
      "Skipped small prefixes >=120:213\n",
      "Finished: BValue Dict created successfully!\n",
      "Processing icmpv6:2023_03_15 for vantage1\n",
      "Total Hitlist Addresses:52114\n",
      "Responsive Hitlist Addresses (ICMPv6/TCP443/UDP53):47951\n",
      "Creating BValue Dict for vantage1 on 2023_03_15 for icmpv6\n"
     ]
    },
    {
     "name": "stderr",
     "output_type": "stream",
     "text": [
      "52114it [00:29, 1787.26it/s]\n"
     ]
    },
    {
     "name": "stdout",
     "output_type": "stream",
     "text": [
      "Skipped small prefixes >=120:213\n",
      "Finished: BValue Dict created successfully!\n",
      "Processing icmpv6:2023_03_16 for vantage1\n",
      "Total Hitlist Addresses:52114\n",
      "Responsive Hitlist Addresses (ICMPv6/TCP443/UDP53):47802\n",
      "Creating BValue Dict for vantage1 on 2023_03_16 for icmpv6\n"
     ]
    },
    {
     "name": "stderr",
     "output_type": "stream",
     "text": [
      "52114it [00:28, 1813.78it/s]\n"
     ]
    },
    {
     "name": "stdout",
     "output_type": "stream",
     "text": [
      "Skipped small prefixes >=120:213\n",
      "Finished: BValue Dict created successfully!\n",
      "Processing icmpv6:2023_03_17 for vantage1\n",
      "Total Hitlist Addresses:52114\n",
      "Responsive Hitlist Addresses (ICMPv6/TCP443/UDP53):47728\n",
      "Creating BValue Dict for vantage1 on 2023_03_17 for icmpv6\n"
     ]
    },
    {
     "name": "stderr",
     "output_type": "stream",
     "text": [
      "52114it [00:28, 1810.42it/s]\n"
     ]
    },
    {
     "name": "stdout",
     "output_type": "stream",
     "text": [
      "Skipped small prefixes >=120:213\n",
      "Finished: BValue Dict created successfully!\n",
      "Processing icmpv6:2023_03_18 for vantage1\n",
      "Total Hitlist Addresses:52114\n",
      "Responsive Hitlist Addresses (ICMPv6/TCP443/UDP53):47664\n",
      "Creating BValue Dict for vantage1 on 2023_03_18 for icmpv6\n"
     ]
    },
    {
     "name": "stderr",
     "output_type": "stream",
     "text": [
      "52114it [00:28, 1819.46it/s]\n"
     ]
    },
    {
     "name": "stdout",
     "output_type": "stream",
     "text": [
      "Skipped small prefixes >=120:213\n",
      "Finished: BValue Dict created successfully!\n",
      "Processing tcp:2023_03_14 for vantage1\n",
      "Total Hitlist Addresses:52114\n",
      "Responsive Hitlist Addresses (ICMPv6/TCP443/UDP53):48135\n",
      "Creating BValue Dict for vantage1 on 2023_03_14 for tcp\n"
     ]
    },
    {
     "name": "stderr",
     "output_type": "stream",
     "text": [
      "52114it [00:27, 1883.09it/s]\n"
     ]
    },
    {
     "name": "stdout",
     "output_type": "stream",
     "text": [
      "Skipped small prefixes >=120:213\n",
      "Finished: BValue Dict created successfully!\n",
      "Processing tcp:2023_03_15 for vantage1\n",
      "Total Hitlist Addresses:52114\n",
      "Responsive Hitlist Addresses (ICMPv6/TCP443/UDP53):47951\n",
      "Creating BValue Dict for vantage1 on 2023_03_15 for tcp\n"
     ]
    },
    {
     "name": "stderr",
     "output_type": "stream",
     "text": [
      "52114it [00:27, 1870.33it/s]\n"
     ]
    },
    {
     "name": "stdout",
     "output_type": "stream",
     "text": [
      "Skipped small prefixes >=120:213\n",
      "Finished: BValue Dict created successfully!\n",
      "Processing tcp:2023_03_16 for vantage1\n",
      "Total Hitlist Addresses:52114\n",
      "Responsive Hitlist Addresses (ICMPv6/TCP443/UDP53):47802\n",
      "Creating BValue Dict for vantage1 on 2023_03_16 for tcp\n"
     ]
    },
    {
     "name": "stderr",
     "output_type": "stream",
     "text": [
      "52114it [00:27, 1878.49it/s]\n"
     ]
    },
    {
     "name": "stdout",
     "output_type": "stream",
     "text": [
      "Skipped small prefixes >=120:213\n",
      "Finished: BValue Dict created successfully!\n",
      "Processing tcp:2023_03_17 for vantage1\n",
      "Total Hitlist Addresses:52114\n",
      "Responsive Hitlist Addresses (ICMPv6/TCP443/UDP53):47728\n",
      "Creating BValue Dict for vantage1 on 2023_03_17 for tcp\n"
     ]
    },
    {
     "name": "stderr",
     "output_type": "stream",
     "text": [
      "52114it [00:27, 1877.61it/s]\n"
     ]
    },
    {
     "name": "stdout",
     "output_type": "stream",
     "text": [
      "Skipped small prefixes >=120:213\n",
      "Finished: BValue Dict created successfully!\n",
      "Processing tcp:2023_03_18 for vantage1\n",
      "Total Hitlist Addresses:52114\n",
      "Responsive Hitlist Addresses (ICMPv6/TCP443/UDP53):47664\n",
      "Creating BValue Dict for vantage1 on 2023_03_18 for tcp\n"
     ]
    },
    {
     "name": "stderr",
     "output_type": "stream",
     "text": [
      "52114it [00:27, 1881.12it/s]\n"
     ]
    },
    {
     "name": "stdout",
     "output_type": "stream",
     "text": [
      "Skipped small prefixes >=120:213\n",
      "Finished: BValue Dict created successfully!\n",
      "Processing udp:2023_03_14 for vantage1\n",
      "Total Hitlist Addresses:52114\n",
      "Responsive Hitlist Addresses (ICMPv6/TCP443/UDP53):48135\n",
      "Creating BValue Dict for vantage1 on 2023_03_14 for udp\n"
     ]
    },
    {
     "name": "stderr",
     "output_type": "stream",
     "text": [
      "52114it [00:28, 1842.39it/s]\n"
     ]
    },
    {
     "name": "stdout",
     "output_type": "stream",
     "text": [
      "Skipped small prefixes >=120:213\n",
      "Finished: BValue Dict created successfully!\n",
      "Processing udp:2023_03_15 for vantage1\n",
      "Total Hitlist Addresses:52114\n",
      "Responsive Hitlist Addresses (ICMPv6/TCP443/UDP53):47951\n",
      "Creating BValue Dict for vantage1 on 2023_03_15 for udp\n"
     ]
    },
    {
     "name": "stderr",
     "output_type": "stream",
     "text": [
      "52114it [00:28, 1839.91it/s]\n"
     ]
    },
    {
     "name": "stdout",
     "output_type": "stream",
     "text": [
      "Skipped small prefixes >=120:213\n",
      "Finished: BValue Dict created successfully!\n",
      "Processing udp:2023_03_16 for vantage1\n",
      "Total Hitlist Addresses:52114\n",
      "Responsive Hitlist Addresses (ICMPv6/TCP443/UDP53):47802\n",
      "Creating BValue Dict for vantage1 on 2023_03_16 for udp\n"
     ]
    },
    {
     "name": "stderr",
     "output_type": "stream",
     "text": [
      "52114it [00:28, 1848.75it/s]\n"
     ]
    },
    {
     "name": "stdout",
     "output_type": "stream",
     "text": [
      "Skipped small prefixes >=120:213\n",
      "Finished: BValue Dict created successfully!\n",
      "Processing udp:2023_03_17 for vantage1\n",
      "Total Hitlist Addresses:52114\n",
      "Responsive Hitlist Addresses (ICMPv6/TCP443/UDP53):47728\n",
      "Creating BValue Dict for vantage1 on 2023_03_17 for udp\n"
     ]
    },
    {
     "name": "stderr",
     "output_type": "stream",
     "text": [
      "52114it [00:28, 1848.14it/s]\n"
     ]
    },
    {
     "name": "stdout",
     "output_type": "stream",
     "text": [
      "Skipped small prefixes >=120:213\n",
      "Finished: BValue Dict created successfully!\n",
      "Processing udp:2023_03_18 for vantage1\n",
      "Total Hitlist Addresses:52114\n",
      "Responsive Hitlist Addresses (ICMPv6/TCP443/UDP53):47664\n",
      "Creating BValue Dict for vantage1 on 2023_03_18 for udp\n"
     ]
    },
    {
     "name": "stderr",
     "output_type": "stream",
     "text": [
      "52114it [00:28, 1849.01it/s]\n"
     ]
    },
    {
     "name": "stdout",
     "output_type": "stream",
     "text": [
      "Skipped small prefixes >=120:213\n",
      "Finished: BValue Dict created successfully!\n",
      "Processing icmpv6:2023_03_14 for vantage2\n",
      "Total Hitlist Addresses:52114\n",
      "Responsive Hitlist Addresses (ICMPv6/TCP443/UDP53):47580\n",
      "Creating BValue Dict for vantage2 on 2023_03_14 for icmpv6\n"
     ]
    },
    {
     "name": "stderr",
     "output_type": "stream",
     "text": [
      "52114it [00:28, 1800.81it/s]\n"
     ]
    },
    {
     "name": "stdout",
     "output_type": "stream",
     "text": [
      "Skipped small prefixes >=120:213\n",
      "Finished: BValue Dict created successfully!\n",
      "Processing icmpv6:2023_03_15 for vantage2\n",
      "Total Hitlist Addresses:52114\n",
      "Responsive Hitlist Addresses (ICMPv6/TCP443/UDP53):47509\n",
      "Creating BValue Dict for vantage2 on 2023_03_15 for icmpv6\n"
     ]
    },
    {
     "name": "stderr",
     "output_type": "stream",
     "text": [
      "52114it [00:28, 1806.33it/s]\n"
     ]
    },
    {
     "name": "stdout",
     "output_type": "stream",
     "text": [
      "Skipped small prefixes >=120:213\n",
      "Finished: BValue Dict created successfully!\n",
      "Processing icmpv6:2023_03_16 for vantage2\n",
      "Total Hitlist Addresses:52114\n",
      "Responsive Hitlist Addresses (ICMPv6/TCP443/UDP53):47640\n",
      "Creating BValue Dict for vantage2 on 2023_03_16 for icmpv6\n"
     ]
    },
    {
     "name": "stderr",
     "output_type": "stream",
     "text": [
      "52114it [00:28, 1809.57it/s]\n"
     ]
    },
    {
     "name": "stdout",
     "output_type": "stream",
     "text": [
      "Skipped small prefixes >=120:213\n",
      "Finished: BValue Dict created successfully!\n",
      "Processing icmpv6:2023_03_17 for vantage2\n",
      "Total Hitlist Addresses:52114\n",
      "Responsive Hitlist Addresses (ICMPv6/TCP443/UDP53):47445\n",
      "Creating BValue Dict for vantage2 on 2023_03_17 for icmpv6\n"
     ]
    },
    {
     "name": "stderr",
     "output_type": "stream",
     "text": [
      "52114it [00:28, 1802.12it/s]\n"
     ]
    },
    {
     "name": "stdout",
     "output_type": "stream",
     "text": [
      "Skipped small prefixes >=120:213\n",
      "Finished: BValue Dict created successfully!\n",
      "Processing icmpv6:2023_03_18 for vantage2\n",
      "Total Hitlist Addresses:52114\n",
      "Responsive Hitlist Addresses (ICMPv6/TCP443/UDP53):47500\n",
      "Creating BValue Dict for vantage2 on 2023_03_18 for icmpv6\n"
     ]
    },
    {
     "name": "stderr",
     "output_type": "stream",
     "text": [
      "52114it [00:28, 1807.92it/s]\n"
     ]
    },
    {
     "name": "stdout",
     "output_type": "stream",
     "text": [
      "Skipped small prefixes >=120:213\n",
      "Finished: BValue Dict created successfully!\n",
      "Processing tcp:2023_03_14 for vantage2\n",
      "Total Hitlist Addresses:52114\n",
      "Responsive Hitlist Addresses (ICMPv6/TCP443/UDP53):47580\n",
      "Creating BValue Dict for vantage2 on 2023_03_14 for tcp\n"
     ]
    },
    {
     "name": "stderr",
     "output_type": "stream",
     "text": [
      "52114it [00:27, 1874.89it/s]\n"
     ]
    },
    {
     "name": "stdout",
     "output_type": "stream",
     "text": [
      "Skipped small prefixes >=120:213\n",
      "Finished: BValue Dict created successfully!\n",
      "Processing tcp:2023_03_15 for vantage2\n",
      "Total Hitlist Addresses:52114\n",
      "Responsive Hitlist Addresses (ICMPv6/TCP443/UDP53):47509\n",
      "Creating BValue Dict for vantage2 on 2023_03_15 for tcp\n"
     ]
    },
    {
     "name": "stderr",
     "output_type": "stream",
     "text": [
      "52114it [00:27, 1879.80it/s]\n"
     ]
    },
    {
     "name": "stdout",
     "output_type": "stream",
     "text": [
      "Skipped small prefixes >=120:213\n",
      "Finished: BValue Dict created successfully!\n",
      "Processing tcp:2023_03_16 for vantage2\n",
      "Total Hitlist Addresses:52114\n",
      "Responsive Hitlist Addresses (ICMPv6/TCP443/UDP53):47640\n",
      "Creating BValue Dict for vantage2 on 2023_03_16 for tcp\n"
     ]
    },
    {
     "name": "stderr",
     "output_type": "stream",
     "text": [
      "52114it [00:27, 1875.34it/s]\n"
     ]
    },
    {
     "name": "stdout",
     "output_type": "stream",
     "text": [
      "Skipped small prefixes >=120:213\n",
      "Finished: BValue Dict created successfully!\n",
      "Processing tcp:2023_03_17 for vantage2\n",
      "Total Hitlist Addresses:52114\n",
      "Responsive Hitlist Addresses (ICMPv6/TCP443/UDP53):47445\n",
      "Creating BValue Dict for vantage2 on 2023_03_17 for tcp\n"
     ]
    },
    {
     "name": "stderr",
     "output_type": "stream",
     "text": [
      "52114it [00:27, 1876.15it/s]\n"
     ]
    },
    {
     "name": "stdout",
     "output_type": "stream",
     "text": [
      "Skipped small prefixes >=120:213\n",
      "Finished: BValue Dict created successfully!\n",
      "Processing tcp:2023_03_18 for vantage2\n",
      "Total Hitlist Addresses:52114\n",
      "Responsive Hitlist Addresses (ICMPv6/TCP443/UDP53):47500\n",
      "Creating BValue Dict for vantage2 on 2023_03_18 for tcp\n"
     ]
    },
    {
     "name": "stderr",
     "output_type": "stream",
     "text": [
      "52114it [00:27, 1878.55it/s]\n"
     ]
    },
    {
     "name": "stdout",
     "output_type": "stream",
     "text": [
      "Skipped small prefixes >=120:213\n",
      "Finished: BValue Dict created successfully!\n",
      "Processing udp:2023_03_14 for vantage2\n",
      "Total Hitlist Addresses:52114\n",
      "Responsive Hitlist Addresses (ICMPv6/TCP443/UDP53):47580\n",
      "Creating BValue Dict for vantage2 on 2023_03_14 for udp\n"
     ]
    },
    {
     "name": "stderr",
     "output_type": "stream",
     "text": [
      "52114it [00:28, 1843.12it/s]\n"
     ]
    },
    {
     "name": "stdout",
     "output_type": "stream",
     "text": [
      "Skipped small prefixes >=120:213\n",
      "Finished: BValue Dict created successfully!\n",
      "Processing udp:2023_03_15 for vantage2\n",
      "Total Hitlist Addresses:52114\n",
      "Responsive Hitlist Addresses (ICMPv6/TCP443/UDP53):47509\n",
      "Creating BValue Dict for vantage2 on 2023_03_15 for udp\n"
     ]
    },
    {
     "name": "stderr",
     "output_type": "stream",
     "text": [
      "52114it [00:28, 1839.24it/s]\n"
     ]
    },
    {
     "name": "stdout",
     "output_type": "stream",
     "text": [
      "Skipped small prefixes >=120:213\n",
      "Finished: BValue Dict created successfully!\n",
      "Processing udp:2023_03_16 for vantage2\n",
      "Total Hitlist Addresses:52114\n",
      "Responsive Hitlist Addresses (ICMPv6/TCP443/UDP53):47640\n",
      "Creating BValue Dict for vantage2 on 2023_03_16 for udp\n"
     ]
    },
    {
     "name": "stderr",
     "output_type": "stream",
     "text": [
      "52114it [00:28, 1843.06it/s]\n"
     ]
    },
    {
     "name": "stdout",
     "output_type": "stream",
     "text": [
      "Skipped small prefixes >=120:213\n",
      "Finished: BValue Dict created successfully!\n",
      "Processing udp:2023_03_17 for vantage2\n",
      "Total Hitlist Addresses:52114\n",
      "Responsive Hitlist Addresses (ICMPv6/TCP443/UDP53):47445\n",
      "Creating BValue Dict for vantage2 on 2023_03_17 for udp\n"
     ]
    },
    {
     "name": "stderr",
     "output_type": "stream",
     "text": [
      "52114it [00:28, 1836.64it/s]\n"
     ]
    },
    {
     "name": "stdout",
     "output_type": "stream",
     "text": [
      "Skipped small prefixes >=120:213\n",
      "Finished: BValue Dict created successfully!\n",
      "Processing udp:2023_03_18 for vantage2\n",
      "Total Hitlist Addresses:52114\n",
      "Responsive Hitlist Addresses (ICMPv6/TCP443/UDP53):47500\n",
      "Creating BValue Dict for vantage2 on 2023_03_18 for udp\n"
     ]
    },
    {
     "name": "stderr",
     "output_type": "stream",
     "text": [
      "52114it [00:28, 1848.45it/s]\n"
     ]
    },
    {
     "name": "stdout",
     "output_type": "stream",
     "text": [
      "Skipped small prefixes >=120:213\n",
      "Finished: BValue Dict created successfully!\n"
     ]
    }
   ],
   "source": [
    "# Repeats bvalue_generation for all vantage points, days and protocols\n",
    "## Caution: This step may take some time\n",
    "\n",
    "import json\n",
    "import os\n",
    "from bvalues.tools.bvalues.bvalue_change_json import detect_changes, create_eval_counts\n",
    "\n",
    "# Define paths and constants\n",
    "VANTAGES = [\"vantage1\", \"vantage2\"]\n",
    "SCAN_DATES = [\"2023_03_14\", \"2023_03_15\", \"2023_03_16\", \"2023_03_17\", \"2023_03_18\"]\n",
    "PROTOCOLS = [\"icmpv6\", \"tcp\", \"udp\"]  \n",
    "\n",
    "FLAG_GEN_BVALUE_DICT=True\n",
    "FLAG_GEN_BVALUE_CHANGES=True\n",
    "FLAG_GEN_BVALUE_CHANGES_COUNTS=True\n",
    "\n",
    "def generate_bvalue_dict(vantage, scan_date, protocol):\n",
    "    scan_file = f\"{BVALUE_FOLDER}{vantage}/{scan_date}/{protocol}/scanned_targets.txt\"\n",
    "    lastbit_file = f\"{LASTBIT_FOLDER}{vantage}/{scan_date}/{protocol}/scanned_targets.txt\"\n",
    "    bvalue_dict_output_file = f\"{BVALUE_FOLDER}{vantage}/{scan_date}/{protocol}/bvalue_dict.json\"\n",
    "\n",
    "    # Aggregate Results from the lastbit measurement\n",
    "    responsiveness_dict = extract_responsiveness_dict(HITLIST_FILE_FILTERED, lastbit_file)\n",
    "    flip_dict = read_flipped_addr_results(lastbit_file, protocol)\n",
    "\n",
    "    # Generate Metadata AS File\n",
    "    as_dict = create_as_dict(BGP_FILE)\n",
    "\n",
    "    # Generate a LPM tree for the input networks\n",
    "    tree = SubnetTree.SubnetTree()\n",
    "    tree = fill_tree(tree, BVALUE_NETS_FILE)\n",
    "\n",
    "    # Generate the BValue Dict\n",
    "    print(f\"Creating BValue Dict for {vantage} on {scan_date} for {protocol}\")\n",
    "    bvalue_dict = create_bvalue_dict(\n",
    "        scan_file, BVALUE_FILE, HITLIST_FILE_FILTERED, flip_dict,\n",
    "        responsiveness_dict, tree, as_dict, 8, 128, protocol, 5\n",
    "    )\n",
    "\n",
    "    # Dump the dict to the output file\n",
    "    with open(bvalue_dict_output_file, 'w') as f_out:\n",
    "        json.dump(bvalue_dict, f_out)\n",
    "        print(\"Finished: BValue Dict created successfully!\")\n",
    "\n",
    "\n",
    "\n",
    "# Function to process each combination of vantage, scan date, and protocol\n",
    "def process_combination(vantage, scan_date, protocol):\n",
    "    bvalue_dict_path = f\"{DEFAULT_FOLDER}/bvalue_{vantage}/{scan_date}/{protocol}/bvalue_dict.json\"\n",
    "    bvalue_change_file = f\"{DEFAULT_FOLDER}/bvalue_{vantage}/{scan_date}/{protocol}/bvalue_changes.json\"\n",
    "    bvalue_change_count_file = f\"{DEFAULT_FOLDER}/bvalue_{vantage}/{scan_date}/{protocol}/bvalue_changes_counts.json\"\n",
    "\n",
    "    if FLAG_GEN_BVALUE_DICT:\n",
    "        generate_bvalue_dict(vantage, scan_date, protocol)\n",
    "    \n",
    "    # Load the bvalue_dict JSON file\n",
    "    with open(bvalue_dict_path, 'r') as f_json:\n",
    "        bvalue_dict = json.load(f_json)\n",
    "    \n",
    "    # Perform Change Detection\n",
    "    results, counts, global_count = detect_changes(bvalue_dict)\n",
    "\n",
    "    # Create Evaluation Counts\n",
    "    create_eval_counts(results, counts, global_count)\n",
    "\n",
    "    if FLAG_GEN_BVALUE_CHANGES:\n",
    "        # Write results to the bvalue_changes.json file\n",
    "        with open(bvalue_change_file, \"w\") as f:\n",
    "            json.dump(results, f, indent=4)\n",
    "    \n",
    "    if FLAG_GEN_BVALUE_CHANGES_COUNTS:\n",
    "        # Write counts to the bvalue_changes_counts.json file\n",
    "        with open(bvalue_change_count_file, \"w\") as f:\n",
    "            json.dump(counts, f, indent=4) \n",
    "\n",
    "# Main loop to process all combinations\n",
    "for vantage in VANTAGES:\n",
    "    for protocol in PROTOCOLS:\n",
    "        for scan_date in SCAN_DATES:\n",
    "            print(f\"Processing {protocol}:{scan_date} for {vantage}\")\n",
    "            process_combination(vantage, scan_date, protocol)\n",
    "\n"
   ]
  },
  {
   "cell_type": "code",
   "execution_count": 28,
   "id": "40ddf786-e247-47f8-bcb7-030574faaeab",
   "metadata": {},
   "outputs": [
    {
     "name": "stdout",
     "output_type": "stream",
     "text": [
      "bvalue_vantage1/2023_03_14/icmpv6/bvalue_changes_counts.json\n",
      "bvalue_vantage1/2023_03_15/icmpv6/bvalue_changes_counts.json\n",
      "bvalue_vantage1/2023_03_16/icmpv6/bvalue_changes_counts.json\n",
      "bvalue_vantage1/2023_03_17/icmpv6/bvalue_changes_counts.json\n",
      "bvalue_vantage1/2023_03_18/icmpv6/bvalue_changes_counts.json\n",
      "bvalue_vantage2/2023_03_14/icmpv6/bvalue_changes_counts.json\n",
      "bvalue_vantage2/2023_03_15/icmpv6/bvalue_changes_counts.json\n",
      "bvalue_vantage2/2023_03_16/icmpv6/bvalue_changes_counts.json\n",
      "bvalue_vantage2/2023_03_17/icmpv6/bvalue_changes_counts.json\n",
      "bvalue_vantage2/2023_03_18/icmpv6/bvalue_changes_counts.json\n",
      "bvalue_vantage1/2023_03_14/tcp/bvalue_changes_counts.json\n",
      "bvalue_vantage1/2023_03_15/tcp/bvalue_changes_counts.json\n",
      "bvalue_vantage1/2023_03_16/tcp/bvalue_changes_counts.json\n",
      "bvalue_vantage1/2023_03_17/tcp/bvalue_changes_counts.json\n",
      "bvalue_vantage1/2023_03_18/tcp/bvalue_changes_counts.json\n",
      "bvalue_vantage2/2023_03_14/tcp/bvalue_changes_counts.json\n",
      "bvalue_vantage2/2023_03_15/tcp/bvalue_changes_counts.json\n",
      "bvalue_vantage2/2023_03_16/tcp/bvalue_changes_counts.json\n",
      "bvalue_vantage2/2023_03_17/tcp/bvalue_changes_counts.json\n",
      "bvalue_vantage2/2023_03_18/tcp/bvalue_changes_counts.json\n",
      "bvalue_vantage1/2023_03_14/udp/bvalue_changes_counts.json\n",
      "bvalue_vantage1/2023_03_15/udp/bvalue_changes_counts.json\n",
      "bvalue_vantage1/2023_03_16/udp/bvalue_changes_counts.json\n",
      "bvalue_vantage1/2023_03_17/udp/bvalue_changes_counts.json\n",
      "bvalue_vantage1/2023_03_18/udp/bvalue_changes_counts.json\n",
      "bvalue_vantage2/2023_03_14/udp/bvalue_changes_counts.json\n",
      "bvalue_vantage2/2023_03_15/udp/bvalue_changes_counts.json\n",
      "bvalue_vantage2/2023_03_16/udp/bvalue_changes_counts.json\n",
      "bvalue_vantage2/2023_03_17/udp/bvalue_changes_counts.json\n",
      "bvalue_vantage2/2023_03_18/udp/bvalue_changes_counts.json\n",
      "{'vantage1': {'icmpv6': np.float64(47643.4), 'tcp': np.float64(47643.4), 'udp': np.float64(47643.399999999994)}, 'vantage2': {'icmpv6': np.float64(47323.2), 'tcp': np.float64(47323.2), 'udp': np.float64(47323.2)}}\n",
      "\\begin{table}[t]\n",
      "    \\renewcommand{\\arraystretch}{1.4}\n",
      "    \\centering\n",
      "    \\scriptsize\n",
      "    \\begin{tabularx}{0.95\\linewidth}{| p{0.2cm} | V R{0.7cm} p{0.4cm} V  | R{0.7cm} p{0.2cm} V |}\n",
      "\\cline{3-8}\n",
      " \\multicolumn{2}{c|}{} & \\multicolumn{3}{c|}{Vantage 1 ($\\sigma$)} & \\multicolumn{3}{c|}{Vantage 2 ($\\sigma$)}\\\\ \\hline\n",
      "\\multirow{3}{*}{\\rotatebox{90}{\\textbf{W. Ch.}}} & ICMPV6 & 21,070 & (79) & \\Chart{0.442} & 20,847 & (30) & \\Chart{0.441} \\\\ \n",
      " & TCP & 18,393 & (57) & \\Chart{0.386} & 18,142 & (25) & \\Chart{0.383} \\\\ \n",
      " & UDP & 24,620 & (108) & \\Chart{0.517} & 24,287 & (33) & \\Chart{0.513} \\\\ \n",
      "\\hline\n",
      "\\multirow{3}{*}{\\rotatebox{90}{\\textbf{W/o. Ch.}}} & ICMPV6 & 8,165 & (41) & \\Chart{0.171} & 8,014 & (24) & \\Chart{0.169} \\\\ \n",
      " & TCP & 6,808 & (28) & \\Chart{0.143} & 6,727 & (26) & \\Chart{0.142} \\\\ \n",
      " & UDP & 6,005 & (25) & \\Chart{0.126} & 5,879 & (29) & \\Chart{0.124} \\\\ \n",
      "\\hline\n",
      "\\multirow{3}{*}{\\rotatebox{90}{\\textbf{$\\varnothing$}}} & ICMPV6 & 18,407 & (62) & \\Chart{0.386} & 18,461 & (28) & \\Chart{0.39} \\\\ \n",
      " & TCP & 22,441 & (89) & \\Chart{0.471} & 22,452 & (53) & \\Chart{0.474} \\\\ \n",
      " & UDP & 17,017 & (59) & \\Chart{0.357} & 17,156 & (24) & \\Chart{0.363} \\\\ \n",
      "\\hline\n",
      "\\end{tabularx}\n",
      "{\\raggedright \\textit{NOTE:} \\# of Networks $=$ mean and $\\sigma$  $=$ standard deviation of five days.}\n",
      "\\captionof{table}{BValue Steps, networks with a change, without changes and networks that do not return ICMPv6 error messages. }\n",
      "\\label{tab:bvalue_step_changes}\n",
      "\\end{table}\n",
      "\n"
     ]
    }
   ],
   "source": [
    "# BValue Steps - Changes Overview Table 5 Days, 3 Protocols, based on bvalue_change_counts.json Files\n",
    "from bvalues.tools.bvalues.latex.create_latex_change_table import *\n",
    "latex_table = generate_table(DEFAULT_FOLDER)\n",
    "print(latex_table)"
   ]
  },
  {
   "cell_type": "code",
   "execution_count": 36,
   "id": "f870ff26-b385-4963-971e-d9caffc26fa9",
   "metadata": {},
   "outputs": [
    {
     "name": "stdout",
     "output_type": "stream",
     "text": [
      "{'0': {'icmpv6': np.float64(18251.0), 'tcp': np.float64(15493.600000000002), 'udp': np.float64(22205.1)}, '1': {'icmpv6': np.float64(10348.0), 'tcp': np.float64(8365.400000000001), 'udp': np.float64(11539.7)}}\n",
      "\\begin{table}[t]\n",
      "    \\renewcommand{\\arraystretch}{1.2}\n",
      "    \\centering\n",
      "    \\tiny\n",
      "    \\resizebox{\\linewidth}{!}{\n",
      "    \\begin{tabular}{ | c| l r r r | r r r |}\n",
      "\\cline{3-8}\n",
      " \\multicolumn{2}{c}{} & \\multicolumn{3}{|c|}{\\textbf{labeled active}} & \\multicolumn{3}{c|}{\\textbf{labeled inactive}} \\\\ \n",
      " \\multicolumn{2}{c}{}& \\multicolumn{1}{|c}{Netw.} &  \\multicolumn{1}{c}{$\\sigma$} &  \\multicolumn{1}{c|}{\\%} & \\multicolumn{1}{c}{Netw.} &  \\multicolumn{1}{c}{$\\sigma$} &  \\multicolumn{1}{c|}{\\%} \\\\ \n",
      " \\hline\n",
      "\\multirow{3}{*}{\\rotatebox{90}{\\textbf{active}}} & ICMPV6 & 17,361 & 109 & \\Chart{0.951} & 471 & 11 & \\Chart{0.046} \\\\ \n",
      " & TCP & 14,522 & 112 & \\Chart{0.937} & 620 & 12 & \\Chart{0.074} \\\\ \n",
      " & UDP & 12,490 & 82 & \\Chart{0.562} & 3,687 & 35 & \\Chart{0.320} \\\\ \n",
      " \\hline\n",
      "\\multirow{3}{*}{\\rotatebox{90}{\\textbf{ambig.}}} & ICMPV6 & 352 & 10 & \\Chart{0.019} & 1,645 & 12 & \\Chart{0.159} \\\\ \n",
      " & TCP & 566 & 10 & \\Chart{0.037} & 1,552 & 14 & \\Chart{0.186} \\\\ \n",
      " & UDP & 9,377 & 91 & \\Chart{0.422} & 1,455 & 7 & \\Chart{0.126} \\\\ \n",
      " \\hline\n",
      "\\multirow{3}{*}{\\rotatebox{90}{\\textbf{inactive}}} & ICMPV6 & 537 & 13 & \\Chart{0.029} & 8,230 & 34 & \\Chart{0.795} \\\\ \n",
      " & TCP & 405 & 8 & \\Chart{0.026} & 6,191 & 26 & \\Chart{0.740} \\\\ \n",
      " & UDP & 337 & 12 & \\Chart{0.015} & 6,396 & 49 & \\Chart{0.554} \\\\ \n",
      " \\hline\n",
      "    \\end{tabular}}\n",
      "    {\\raggedright % $\\ast$ ICMPv6 error messages not returned by default.  \n",
      "    NR\\textsubscript{x} ... Vantage point 2 difference. $\\sigma$ Standard deviation over five days.}\n",
      "\\captionof{table}{Error message classification for labeled networks.} \n",
      "    \\label{tab:bvalues_active}\n",
      "\\end{table}\n",
      "\n"
     ]
    }
   ],
   "source": [
    "# BValue Steps - Network Activity Classification for active and inactive prefixes; Overview Table 5 Days, 3 Protocols, based on bvalue_change_counts.json Files\n",
    "from bvalues.tools.bvalues.latex.create_latex_label_table import *\n",
    "latex_table = generate_label_table(DEFAULT_FOLDER)\n",
    "print(latex_table)"
   ]
  },
  {
   "cell_type": "code",
   "execution_count": 37,
   "id": "e83947c2-e900-4f8f-8cd8-1bb15ca09a0a",
   "metadata": {},
   "outputs": [
    {
     "name": "stdout",
     "output_type": "stream",
     "text": [
      "{'icmpv6': {'0': {'0': [], '1': [], '2': [], '3': [], '4': [], '5': []}, '1': {'0': [], '1': [], '2': [], '3': [], '4': [], '5': []}, '2': {'0': [], '1': [], '2': [], '3': [], '4': [], '5': []}, '3': {'0': [], '1': [], '2': [], '3': [], '4': [], '5': []}, '4': {'0': [], '1': [], '2': [], '3': [], '4': [], '5': []}, '5': {'0': [], '1': [], '2': [], '3': [], '4': [], '5': []}}, 'tcp': {'0': {'0': [], '1': [], '2': [], '3': [], '4': [], '5': []}, '1': {'0': [], '1': [], '2': [], '3': [], '4': [], '5': []}, '2': {'0': [], '1': [], '2': [], '3': [], '4': [], '5': []}, '3': {'0': [], '1': [], '2': [], '3': [], '4': [], '5': []}, '4': {'0': [], '1': [], '2': [], '3': [], '4': [], '5': []}, '5': {'0': [], '1': [], '2': [], '3': [], '4': [], '5': []}}, 'udp': {'0': {'0': [], '1': [], '2': [], '3': [], '4': [], '5': []}, '1': {'0': [], '1': [], '2': [], '3': [], '4': [], '5': []}, '2': {'0': [], '1': [], '2': [], '3': [], '4': [], '5': []}, '3': {'0': [], '1': [], '2': [], '3': [], '4': [], '5': []}, '4': {'0': [], '1': [], '2': [], '3': [], '4': [], '5': []}, '5': {'0': [], '1': [], '2': [], '3': [], '4': [], '5': []}}}\n",
      "{'icmpv6': {'0': {'1': 0, '2': 0, '3': 0, '4': 0, '5': 0}, '1': {'1': 10050, '2': 3700, '3': 146, '4': 5, '5': 0}, '2': {'1': 8378, '2': 1180, '3': 51, '4': 1, '5': 0}, '3': {'1': 9856, '2': 1023, '3': 32, '4': 0, '5': 0}, '4': {'1': 15063, '2': 2281, '3': 0, '4': 0, '5': 0}, '5': {'1': 202049, '2': 0, '3': 0, '4': 0, '5': 0}}, 'tcp': {'0': {'1': 0, '2': 0, '3': 0, '4': 0, '5': 0}, '1': {'1': 8160, '2': 1479, '3': 28, '4': 0, '5': 0}, '2': {'1': 7879, '2': 587, '3': 10, '4': 0, '5': 0}, '3': {'1': 9348, '2': 492, '3': 4, '4': 0, '5': 0}, '4': {'1': 14673, '2': 654, '3': 0, '4': 0, '5': 0}, '5': {'1': 163786, '2': 0, '3': 0, '4': 0, '5': 0}}, 'udp': {'0': {'1': 0, '2': 0, '3': 0, '4': 0, '5': 0}, '1': {'1': 9105, '2': 2641, '3': 117, '4': 3, '5': 0}, '2': {'1': 8076, '2': 799, '3': 37, '4': 1, '5': 0}, '3': {'1': 9684, '2': 680, '3': 30, '4': 0, '5': 0}, '4': {'1': 14751, '2': 1470, '3': 0, '4': 0, '5': 0}, '5': {'1': 180489, '2': 0, '3': 0, '4': 0, '5': 0}}}\n",
      "\\begin{table}\n",
      "\\begin{tiny}\n",
      "\\begin{tabular}{cc|c||c|c|c|c|c|c|}\n",
      "& & &  \\multicolumn{5}{c|}{No. of responses} \\\\\n",
      "& & Protocol & 1 & 2 & 3 & 4 & 5 \\\\ \\hline \\hline\n",
      "& 1 & ICMPV6  & 10050 & 8378 & 9856 & 15063 & 202049 \\\\\n",
      "& 1 & TCP  & 8160 & 7879 & 9348 & 14673 & 163786 \\\\\n",
      "& 1 & UDP  & 9105 & 8076 & 9684 & 14751 & 180489 \\\\\n",
      "\\cline{2-8}\n",
      "& 2 & ICMPV6  & 3700 & 1180 & 1023 & 2281 & 0 \\\\\n",
      "& 2 & TCP  & 1479 & 587 & 492 & 654 & 0 \\\\\n",
      "& 2 & UDP  & 2641 & 799 & 680 & 1470 & 0 \\\\\n",
      "\\cline{2-8}\n",
      "& 3 & ICMPV6  & 146 & 51 & 32 & 0 & 0 \\\\\n",
      "& 3 & TCP  & 28 & 10 & 4 & 0 & 0 \\\\\n",
      "& 3 & UDP  & 117 & 37 & 30 & 0 & 0 \\\\\n",
      "\\cline{2-8}\n",
      "& 4 & ICMPV6  & 5 & 1 & 0 & 0 & 0 \\\\\n",
      "& 4 & TCP  & 0 & 0 & 0 & 0 & 0 \\\\\n",
      "& 4 & UDP  & 3 & 1 & 0 & 0 & 0 \\\\\n",
      "\\cline{2-8}\n",
      "& 5 & ICMPV6  & 0 & 0 & 0 & 0 & 0 \\\\\n",
      "& 5 & TCP  & 0 & 0 & 0 & 0 & 0 \\\\\n",
      "& 5 & UDP  & 0 & 0 & 0 & 0 & 0 \\\\\n",
      "\\cline{2-8}\n",
      "\\end{tabular}\n",
      "\\end{tiny}\n",
      "\\caption{Mean number responses in relation to number of message types for BValue Steps.}\n",
      "\\label{table:mean_subnet_responses_matrix}\n",
      "\\end{table}\n",
      "-----------------------------------------\n",
      "\\begin{table}\n",
      "\\begin{tiny}\n",
      "\\begin{tabular}{cc|c||c|c|c|c|c|c|}\n",
      "& & &  \\multicolumn{5}{c|}{No. of responses} \\\\\n",
      "& & Protocol & 1 & 2 & 3 & 4 & 5 \\\\ \\hline \\hline\n",
      "& 1 & ICMPV6  & \\Chart{0.04} & \\Chart{0.03} & \\Chart{0.04} & \\Chart{0.06} & \\Chart{0.80} \\\\\n",
      "& 1 & TCP  & \\Chart{0.04} & \\Chart{0.04} & \\Chart{0.05} & \\Chart{0.07} & \\Chart{0.79} \\\\\n",
      "& 1 & UDP  & \\Chart{0.04} & \\Chart{0.04} & \\Chart{0.04} & \\Chart{0.06} & \\Chart{0.79} \\\\\n",
      "\\cline{2-8}\n",
      "& 2 & ICMPV6  & \\Chart{0.01} & \\Chart{0.00} & \\Chart{0.00} & \\Chart{0.01} & \\Chart{0.00} \\\\\n",
      "& 2 & TCP  & \\Chart{0.01} & \\Chart{0.00} & \\Chart{0.00} & \\Chart{0.00} & \\Chart{0.00} \\\\\n",
      "& 2 & UDP  & \\Chart{0.01} & \\Chart{0.00} & \\Chart{0.00} & \\Chart{0.01} & \\Chart{0.00} \\\\\n",
      "\\cline{2-8}\n",
      "& 3 & ICMPV6  & \\Chart{0.00} & \\Chart{0.00} & \\Chart{0.00} & \\Chart{0.00} & \\Chart{0.00} \\\\\n",
      "& 3 & TCP  & \\Chart{0.00} & \\Chart{0.00} & \\Chart{0.00} & \\Chart{0.00} & \\Chart{0.00} \\\\\n",
      "& 3 & UDP  & \\Chart{0.00} & \\Chart{0.00} & \\Chart{0.00} & \\Chart{0.00} & \\Chart{0.00} \\\\\n",
      "\\cline{2-8}\n",
      "& 4 & ICMPV6  & \\Chart{0.00} & \\Chart{0.00} & \\Chart{0.00} & \\Chart{0.00} & \\Chart{0.00} \\\\\n",
      "& 4 & TCP  & \\Chart{0.00} & \\Chart{0.00} & \\Chart{0.00} & \\Chart{0.00} & \\Chart{0.00} \\\\\n",
      "& 4 & UDP  & \\Chart{0.00} & \\Chart{0.00} & \\Chart{0.00} & \\Chart{0.00} & \\Chart{0.00} \\\\\n",
      "\\cline{2-8}\n",
      "& 5 & ICMPV6  & \\Chart{0.00} & \\Chart{0.00} & \\Chart{0.00} & \\Chart{0.00} & \\Chart{0.00} \\\\\n",
      "& 5 & TCP  & \\Chart{0.00} & \\Chart{0.00} & \\Chart{0.00} & \\Chart{0.00} & \\Chart{0.00} \\\\\n",
      "& 5 & UDP  & \\Chart{0.00} & \\Chart{0.00} & \\Chart{0.00} & \\Chart{0.00} & \\Chart{0.00} \\\\\n",
      "\\cline{2-8}\n",
      "\\end{tabular}\n",
      "\\end{tiny}\n",
      "\\caption{Mean number responses in relation to number of message types for BValue Steps.}\n",
      "\\label{table:mean_subnet_responses_matrix}\n",
      "\\end{table}\n"
     ]
    }
   ],
   "source": [
    "# Create Latex Table for Appendix showing the number of responses per BValue Step and the number of different message types\n",
    "\n",
    "from bvalues.tools.bvalues.latex.create_latex_bvaluetruthtable import *\n",
    "\n",
    "generate_table_types_responses(DEFAULT_FOLDER)\n",
    "\n"
   ]
  }
 ],
 "metadata": {
  "kernelspec": {
   "display_name": "venv-icmpv6",
   "language": "python",
   "name": "venv-icmpv6"
  },
  "language_info": {
   "codemirror_mode": {
    "name": "ipython",
    "version": 3
   },
   "file_extension": ".py",
   "mimetype": "text/x-python",
   "name": "python",
   "nbconvert_exporter": "python",
   "pygments_lexer": "ipython3",
   "version": "3.12.3"
  }
 },
 "nbformat": 4,
 "nbformat_minor": 5
}
